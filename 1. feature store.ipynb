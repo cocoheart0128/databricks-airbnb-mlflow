{
 "cells": [
  {
   "cell_type": "code",
   "execution_count": 0,
   "metadata": {
    "application/vnd.databricks.v1+cell": {
     "cellMetadata": {
      "byteLimit": 2048000,
      "implicitDf": true,
      "rowLimit": 10000
     },
     "inputWidgets": {},
     "nuid": "75ce045c-c3d2-4399-83e6-03dcc830aa03",
     "showTitle": false,
     "title": ""
    }
   },
   "outputs": [],
   "source": [
    "%run ./0"
   ]
  },
  {
   "cell_type": "code",
   "execution_count": 0,
   "metadata": {
    "application/vnd.databricks.v1+cell": {
     "cellMetadata": {
      "byteLimit": 2048000,
      "rowLimit": 10000
     },
     "inputWidgets": {},
     "nuid": "b101355f-e125-4cf9-a77d-f99c9d70f990",
     "showTitle": true,
     "title": "Feature store 등록"
    }
   },
   "outputs": [
    {
     "output_type": "stream",
     "name": "stderr",
     "output_type": "stream",
     "text": [
      "2023/03/16 06:15:46 WARNING databricks.feature_store.utils.spark_listener: Exception while attempting to initialize JVM-side state for logging Spark datasource. Either use a cluster with ML Runtime or install the mlflow-spark JAR in your cluster as described in http://mlflow.org/docs/latest/tracking.html#automatic-logging-from-spark-experimental.\n2023/03/16 06:15:51 INFO databricks.feature_store._compute_client._compute_client: Created feature table 'hive_metastore.airbnb_db.feature_store_e4fa7b'.\n"
     ]
    },
    {
     "output_type": "display_data",
     "data": {
      "text/html": [
       "<style scoped>\n  .table-result-container {\n    max-height: 300px;\n    overflow: auto;\n  }\n  table, th, td {\n    border: 1px solid black;\n    border-collapse: collapse;\n  }\n  th, td {\n    padding: 5px;\n  }\n  th {\n    text-align: left;\n  }\n</style><div class='table-result-container'><table class='table-result'><thead style='background-color: white'><tr><th>feature_id</th><th>created_timestamp</th></tr></thead><tbody><tr><td>airbnb_db.feature_store_e4fa7b</td><td>2023-03-16T06:15:52.386+0000</td></tr></tbody></table></div>"
      ]
     },
     "metadata": {
      "application/vnd.databricks.v1+output": {
       "addedWidgets": {},
       "aggData": [],
       "aggError": "",
       "aggOverflow": false,
       "aggSchema": [],
       "aggSeriesLimitReached": false,
       "aggType": "",
       "arguments": {},
       "columnCustomDisplayInfos": {},
       "data": [
        [
         "airbnb_db.feature_store_e4fa7b",
         "2023-03-16T06:15:52.386+0000"
        ]
       ],
       "datasetInfos": [],
       "dbfsResultPath": null,
       "isJsonSchema": true,
       "metadata": {},
       "overflow": false,
       "plotOptions": {
        "customPlotOptions": {},
        "displayType": "table",
        "pivotAggregation": null,
        "pivotColumns": null,
        "xColumns": null,
        "yColumns": null
       },
       "removedWidgets": [],
       "schema": [
        {
         "metadata": "{}",
         "name": "feature_id",
         "type": "\"string\""
        },
        {
         "metadata": "{}",
         "name": "created_timestamp",
         "type": "\"timestamp\""
        }
       ],
       "type": "table"
      }
     },
     "output_type": "display_data"
    }
   ],
   "source": [
    "##컬럼\n",
    "all_col=['host_is_superhost','cancellation_policy','instant_bookable','host_total_listings_count','neighbourhood_cleansed','latitude','longitude','property_type','room_type','accommodates','bathrooms','bedrooms','beds','bed_type','minimum_nights','number_of_reviews','review_scores_rating','review_scores_accuracy','review_scores_cleanliness','review_scores_checkin','review_scores_communication','review_scores_location','review_scores_value','target_price','index']\n",
    "\n",
    "fs = FeatureStoreClient()\n",
    "\n",
    "##feature store에 등록하려는 id 생성\n",
    "table_name = f\"airbnb_db.feature_store_\" + str(uuid.uuid4())[:6]\n",
    "feature_df=data_reading_table_select_col('airbnb_db.gold_final_mart_table_updated_airbnb',str(all_col[:])[1:-1]).drop('target_price')\n",
    "schema = feature_df.schema\n",
    "description = \"feature_store_feature_all\"\n",
    "\n",
    "##feature store에 feature table 등록\n",
    "fs.create_table(\n",
    "    name=table_name,\n",
    "    primary_keys = [\"index\"],\n",
    "    df=feature_df,\n",
    "    schema=feature_df.schema,\n",
    "    description = description\n",
    ")\n",
    "##자동화하기 위해 feature store로 등록된 id들 airbnb_db.feature_store_tb이라는 테이블에서 관리 \n",
    "##이런 방식으로 최신 feature store에 등록된 id 가지고 데이터 로딩 가능\n",
    "insert=spark.sql(f'''insert into airbnb_db.feature_store_tb (feature_id,created_timestamp) values(\"{table_name}\",\"{datetime.datetime.now()}\")''')\n",
    "df=spark.sql('''select * from airbnb_db.feature_store_tb order by created_timestamp desc limit 1''');\n",
    "df.display()"
   ]
  }
 ],
 "metadata": {
  "application/vnd.databricks.v1+notebook": {
   "dashboards": [],
   "language": "python",
   "notebookMetadata": {
    "mostRecentlyExecutedCommandWithImplicitDF": {
     "commandId": -1,
     "dataframes": [
      "_sqldf"
     ]
    },
    "pythonIndentUnit": 4
   },
   "notebookName": "1. feature store",
   "notebookOrigID": 1264345210877708,
   "widgets": {}
  }
 },
 "nbformat": 4,
 "nbformat_minor": 0
}
