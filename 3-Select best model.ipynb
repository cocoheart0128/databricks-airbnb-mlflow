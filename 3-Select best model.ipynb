{
 "cells": [
  {
   "cell_type": "code",
   "execution_count": 0,
   "metadata": {
    "application/vnd.databricks.v1+cell": {
     "cellMetadata": {
      "byteLimit": 2048000,
      "rowLimit": 10000
     },
     "inputWidgets": {},
     "nuid": "47a6b6d4-3a12-4e99-85be-6a607fa9878c",
     "showTitle": false,
     "title": ""
    }
   },
   "outputs": [],
   "source": [
    "%run ./0"
   ]
  },
  {
   "cell_type": "code",
   "execution_count": 0,
   "metadata": {
    "application/vnd.databricks.v1+cell": {
     "cellMetadata": {
      "byteLimit": 2048000,
      "rowLimit": 10000
     },
     "inputWidgets": {},
     "nuid": "02aa970c-6a63-4759-a4b3-6cdc6ed9f02d",
     "showTitle": false,
     "title": ""
    }
   },
   "outputs": [],
   "source": [
    "def find_best_and_register_model(experiment_id,register_model_name):\n",
    "    client = MlflowClient()\n",
    "    runs_df = mlflow.search_runs(experiment_id, order_by=[\"attributes.start_time desc\"])\n",
    "    filter_run_df=runs_df.loc[(runs_df[\"tags.mlflow.runName\"] == 'best XGB model with tuning parmater')|(runs_df[\"tags.mlflow.runName\"] == 'best model LR with tuning parmater')|(runs_df[\"tags.mlflow.runName\"] == 'best model RF with tuning parmater')].reset_index(drop=True)\n",
    "    filter_run_df['rank_dense']=filter_run_df.groupby('tags.mlflow.runName')['start_time'].rank(method='dense',ascending =False)\n",
    "    final_run_df=filter_run_df[filter_run_df['rank_dense']==1].drop('rank_dense',axis=1).reset_index(drop=True)\n",
    "    final_run_df['rank_dense']=final_run_df['metrics.RMSE'].rank(method='dense',ascending =True)\n",
    "    best_run_df=final_run_df[final_run_df['rank_dense']==1].reset_index(drop=True)\n",
    "    best_run_id=best_run_df[\"run_id\"].reset_index(drop=True)[0]\n",
    "    \n",
    "    print(\"find best model run details : \")\n",
    "    best_run_df.display()\n",
    "    register_baseline_model(register_model_name,best_run_id)                                                                                                                                                                                                                                                                                                                                    "
   ]
  },
  {
   "cell_type": "code",
   "execution_count": 0,
   "metadata": {
    "application/vnd.databricks.v1+cell": {
     "cellMetadata": {
      "byteLimit": 2048000,
      "rowLimit": 10000
     },
     "inputWidgets": {},
     "nuid": "8d6f64ce-d08b-4513-a7ee-e93a7734075e",
     "showTitle": false,
     "title": ""
    }
   },
   "outputs": [],
   "source": [
    "runs_df = mlflow.search_runs(experiment_id, order_by=[\"attributes.start_time desc\"])"
   ]
  },
  {
   "cell_type": "code",
   "execution_count": 0,
   "metadata": {
    "application/vnd.databricks.v1+cell": {
     "cellMetadata": {
      "byteLimit": 2048000,
      "rowLimit": 10000
     },
     "inputWidgets": {},
     "nuid": "3f4aeb62-13ab-4e29-876a-856fc4563878",
     "showTitle": false,
     "title": ""
    }
   },
   "outputs": [
    {
     "output_type": "stream",
     "name": "stdout",
     "output_type": "stream",
     "text": [
      "find best model run details : \n"
     ]
    },
    {
     "output_type": "display_data",
     "data": {
      "text/html": [
       "<style scoped>\n  .table-result-container {\n    max-height: 300px;\n    overflow: auto;\n  }\n  table, th, td {\n    border: 1px solid black;\n    border-collapse: collapse;\n  }\n  th, td {\n    padding: 5px;\n  }\n  th {\n    text-align: left;\n  }\n</style><div class='table-result-container'><table class='table-result'><thead style='background-color: white'><tr><th>run_id</th><th>experiment_id</th><th>status</th><th>artifact_uri</th><th>start_time</th><th>end_time</th><th>metrics.RMSE</th><th>metrics.R2</th><th>metrics.rmse</th><th>params.model type</th><th>params.paramater</th><th>params.features</th><th>params.label</th><th>tags.mlflow.databricks.cluster.id</th><th>tags.mlflow.databricks.notebookRevisionID</th><th>tags.mlflow.databricks.workspaceID</th><th>tags.mlflow.source.name</th><th>tags.mlflow.databricks.notebookPath</th><th>tags.sparkDatasourceInfo</th><th>tags.mlflow.databricks.gitRepoReference</th><th>tags.mlflow.log-model.history</th><th>tags.mlflow.databricks.notebook.commandID</th><th>tags.mlflow.databricks.webappURL</th><th>tags.mlflow.source.type</th><th>tags.mlflow.databricks.cluster.libraries</th><th>tags.mlflow.databricks.gitRepoProvider</th><th>tags.mlflow.databricks.gitRepoCommit</th><th>tags.mlflow.user</th><th>tags.mlflow.databricks.gitRepoRelativePath</th><th>tags.mlflow.databricks.workspaceURL</th><th>tags.mlflow.runName</th><th>tags.mlflow.databricks.gitRepoReferenceType</th><th>tags.mlflow.databricks.cluster.info</th><th>tags.mlflow.databricks.notebookID</th><th>tags.mlflow.databricks.gitRepoStatus</th><th>tags.mlflow.databricks.gitRepoUrl</th><th>tags.mlflow.databricks.notebookRevisionError</th><th>rank_dense</th></tr></thead><tbody><tr><td>6c3ce285102547798b888bcec6c2b203</td><td>4294012359381903</td><td>FINISHED</td><td>dbfs:/databricks/mlflow-tracking/4294012359381903/6c3ce285102547798b888bcec6c2b203/artifacts</td><td>2023-03-16T05:48:27.029+0000</td><td>2023-03-16T05:49:01.038+0000</td><td>397.2943799125173</td><td>0.08432159976563514</td><td>null</td><td>Linear Regression</td><td>{'regParam': 0.8}</td><td>null</td><td>null</td><td>0309-080449-d0znjq4t</td><td>1678945741191</td><td>4325144974049722</td><td>/Repos/kexin@mz.co.kr/poc/test_final_last/2-Linear Regression</td><td>/Repos/kexin@mz.co.kr/poc/test_final_last/2-Linear Regression</td><td>path=dbfs:/user/hive/warehouse/airbnb_db.db/feature_store_tb,version=4,format=delta\npath=mlflowdbfs:/artifacts?run_id=a92ebbe0f79c4291a9b12eebeb7f95d0&path=/model/sparkml/stages/0_StringIndexer_607b674b824e/data,format=parquet\npath=mlflowdbfs:/artifacts?run_id=a92ebbe0f79c4291a9b12eebeb7f95d0&path=/model/sparkml/stages/1_OneHotEncoder_5f1ac8982e79/data,format=parquet\npath=mlflowdbfs:/artifacts?run_id=a92ebbe0f79c4291a9b12eebeb7f95d0&path=/model/sparkml/stages/3_LinearRegression_50548826552c/data,format=parquet\npath=dbfs:/pipelines/e9ac1fe5-0e3f-4337-8cc5-7a319ea93b18/tables/gold_final_mart_table_updated_airbnb,version=1,format=delta\npath=dbfs:/user/hive/warehouse/airbnb_db.db/feature_store_772f9c,version=1,format=delta</td><td>feature-aileen</td><td>[{\"artifact_path\":\"model\",\"flavors\":{\"spark\":{\"pyspark_version\":\"3.3.0\",\"model_data\":\"sparkml\",\"code\":null},\"python_function\":{\"loader_module\":\"mlflow.spark\",\"python_version\":\"3.9.5\",\"data\":\"sparkml\",\"env\":\"conda.yaml\"}},\"run_id\":\"6c3ce285102547798b888bcec6c2b203\",\"model_uuid\":\"90a53a315907446bb27f9619231410bb\",\"utc_time_created\":\"2023-03-16 05:48:41.057380\",\"mlflow_version\":\"1.29.0\",\"databricks_runtime\":\"11.3.x-cpu-ml-scala2.12\"}]</td><td>794884447188432082_5206946371208257317_b1acddf5c66c4a1bb247f02ac826f202</td><td>https://seoul.cloud.databricks.com</td><td>NOTEBOOK</td><td>{\"installable\":[],\"redacted\":[]}</td><td>gitHub</td><td>98a7c6befee8fcede22d5a67adf4fe5c691d9ea1</td><td>kexin@mz.co.kr</td><td>test_final_last/2-Linear Regression</td><td>dbc-3d35d31c-7db9.cloud.databricks.com</td><td>best model LR with tuning parmater</td><td>branch</td><td>{\"cluster_name\":\"dbdemos-mlops-end2end-kexin\",\"spark_version\":\"11.3.x-cpu-ml-scala2.12\",\"node_type_id\":\"i3.xlarge\",\"driver_node_type_id\":\"i3.xlarge\",\"autotermination_minutes\":120,\"disk_spec\":{\"disk_count\":0},\"autoscale\":{\"min_workers\":2,\"max_workers\":4,\"target_workers\":2}}</td><td>1264345210877618</td><td>unknown</td><td>https://github.com/mzdbc/poc.git</td><td>null</td><td>1.0</td></tr></tbody></table></div>"
      ]
     },
     "metadata": {
      "application/vnd.databricks.v1+output": {
       "addedWidgets": {},
       "aggData": [],
       "aggError": "",
       "aggOverflow": false,
       "aggSchema": [],
       "aggSeriesLimitReached": false,
       "aggType": "",
       "arguments": {},
       "columnCustomDisplayInfos": {},
       "data": [
        [
         "6c3ce285102547798b888bcec6c2b203",
         "4294012359381903",
         "FINISHED",
         "dbfs:/databricks/mlflow-tracking/4294012359381903/6c3ce285102547798b888bcec6c2b203/artifacts",
         "2023-03-16T05:48:27.029+0000",
         "2023-03-16T05:49:01.038+0000",
         397.2943799125173,
         0.08432159976563514,
         null,
         "Linear Regression",
         "{'regParam': 0.8}",
         null,
         null,
         "0309-080449-d0znjq4t",
         "1678945741191",
         "4325144974049722",
         "/Repos/kexin@mz.co.kr/poc/test_final_last/2-Linear Regression",
         "/Repos/kexin@mz.co.kr/poc/test_final_last/2-Linear Regression",
         "path=dbfs:/user/hive/warehouse/airbnb_db.db/feature_store_tb,version=4,format=delta\npath=mlflowdbfs:/artifacts?run_id=a92ebbe0f79c4291a9b12eebeb7f95d0&path=/model/sparkml/stages/0_StringIndexer_607b674b824e/data,format=parquet\npath=mlflowdbfs:/artifacts?run_id=a92ebbe0f79c4291a9b12eebeb7f95d0&path=/model/sparkml/stages/1_OneHotEncoder_5f1ac8982e79/data,format=parquet\npath=mlflowdbfs:/artifacts?run_id=a92ebbe0f79c4291a9b12eebeb7f95d0&path=/model/sparkml/stages/3_LinearRegression_50548826552c/data,format=parquet\npath=dbfs:/pipelines/e9ac1fe5-0e3f-4337-8cc5-7a319ea93b18/tables/gold_final_mart_table_updated_airbnb,version=1,format=delta\npath=dbfs:/user/hive/warehouse/airbnb_db.db/feature_store_772f9c,version=1,format=delta",
         "feature-aileen",
         "[{\"artifact_path\":\"model\",\"flavors\":{\"spark\":{\"pyspark_version\":\"3.3.0\",\"model_data\":\"sparkml\",\"code\":null},\"python_function\":{\"loader_module\":\"mlflow.spark\",\"python_version\":\"3.9.5\",\"data\":\"sparkml\",\"env\":\"conda.yaml\"}},\"run_id\":\"6c3ce285102547798b888bcec6c2b203\",\"model_uuid\":\"90a53a315907446bb27f9619231410bb\",\"utc_time_created\":\"2023-03-16 05:48:41.057380\",\"mlflow_version\":\"1.29.0\",\"databricks_runtime\":\"11.3.x-cpu-ml-scala2.12\"}]",
         "794884447188432082_5206946371208257317_b1acddf5c66c4a1bb247f02ac826f202",
         "https://seoul.cloud.databricks.com",
         "NOTEBOOK",
         "{\"installable\":[],\"redacted\":[]}",
         "gitHub",
         "98a7c6befee8fcede22d5a67adf4fe5c691d9ea1",
         "kexin@mz.co.kr",
         "test_final_last/2-Linear Regression",
         "dbc-3d35d31c-7db9.cloud.databricks.com",
         "best model LR with tuning parmater",
         "branch",
         "{\"cluster_name\":\"dbdemos-mlops-end2end-kexin\",\"spark_version\":\"11.3.x-cpu-ml-scala2.12\",\"node_type_id\":\"i3.xlarge\",\"driver_node_type_id\":\"i3.xlarge\",\"autotermination_minutes\":120,\"disk_spec\":{\"disk_count\":0},\"autoscale\":{\"min_workers\":2,\"max_workers\":4,\"target_workers\":2}}",
         "1264345210877618",
         "unknown",
         "https://github.com/mzdbc/poc.git",
         null,
         1.0
        ]
       ],
       "datasetInfos": [],
       "dbfsResultPath": null,
       "isJsonSchema": true,
       "metadata": {},
       "overflow": false,
       "plotOptions": {
        "customPlotOptions": {},
        "displayType": "table",
        "pivotAggregation": null,
        "pivotColumns": null,
        "xColumns": null,
        "yColumns": null
       },
       "removedWidgets": [],
       "schema": [
        {
         "metadata": "{}",
         "name": "run_id",
         "type": "\"string\""
        },
        {
         "metadata": "{}",
         "name": "experiment_id",
         "type": "\"string\""
        },
        {
         "metadata": "{}",
         "name": "status",
         "type": "\"string\""
        },
        {
         "metadata": "{}",
         "name": "artifact_uri",
         "type": "\"string\""
        },
        {
         "metadata": "{}",
         "name": "start_time",
         "type": "\"timestamp\""
        },
        {
         "metadata": "{}",
         "name": "end_time",
         "type": "\"timestamp\""
        },
        {
         "metadata": "{}",
         "name": "metrics.RMSE",
         "type": "\"double\""
        },
        {
         "metadata": "{}",
         "name": "metrics.R2",
         "type": "\"double\""
        },
        {
         "metadata": "{}",
         "name": "metrics.rmse",
         "type": "\"double\""
        },
        {
         "metadata": "{}",
         "name": "params.model type",
         "type": "\"string\""
        },
        {
         "metadata": "{}",
         "name": "params.paramater",
         "type": "\"string\""
        },
        {
         "metadata": "{}",
         "name": "params.features",
         "type": "\"void\""
        },
        {
         "metadata": "{}",
         "name": "params.label",
         "type": "\"void\""
        },
        {
         "metadata": "{}",
         "name": "tags.mlflow.databricks.cluster.id",
         "type": "\"string\""
        },
        {
         "metadata": "{}",
         "name": "tags.mlflow.databricks.notebookRevisionID",
         "type": "\"string\""
        },
        {
         "metadata": "{}",
         "name": "tags.mlflow.databricks.workspaceID",
         "type": "\"string\""
        },
        {
         "metadata": "{}",
         "name": "tags.mlflow.source.name",
         "type": "\"string\""
        },
        {
         "metadata": "{}",
         "name": "tags.mlflow.databricks.notebookPath",
         "type": "\"string\""
        },
        {
         "metadata": "{}",
         "name": "tags.sparkDatasourceInfo",
         "type": "\"string\""
        },
        {
         "metadata": "{}",
         "name": "tags.mlflow.databricks.gitRepoReference",
         "type": "\"string\""
        },
        {
         "metadata": "{}",
         "name": "tags.mlflow.log-model.history",
         "type": "\"string\""
        },
        {
         "metadata": "{}",
         "name": "tags.mlflow.databricks.notebook.commandID",
         "type": "\"string\""
        },
        {
         "metadata": "{}",
         "name": "tags.mlflow.databricks.webappURL",
         "type": "\"string\""
        },
        {
         "metadata": "{}",
         "name": "tags.mlflow.source.type",
         "type": "\"string\""
        },
        {
         "metadata": "{}",
         "name": "tags.mlflow.databricks.cluster.libraries",
         "type": "\"string\""
        },
        {
         "metadata": "{}",
         "name": "tags.mlflow.databricks.gitRepoProvider",
         "type": "\"string\""
        },
        {
         "metadata": "{}",
         "name": "tags.mlflow.databricks.gitRepoCommit",
         "type": "\"string\""
        },
        {
         "metadata": "{}",
         "name": "tags.mlflow.user",
         "type": "\"string\""
        },
        {
         "metadata": "{}",
         "name": "tags.mlflow.databricks.gitRepoRelativePath",
         "type": "\"string\""
        },
        {
         "metadata": "{}",
         "name": "tags.mlflow.databricks.workspaceURL",
         "type": "\"string\""
        },
        {
         "metadata": "{}",
         "name": "tags.mlflow.runName",
         "type": "\"string\""
        },
        {
         "metadata": "{}",
         "name": "tags.mlflow.databricks.gitRepoReferenceType",
         "type": "\"string\""
        },
        {
         "metadata": "{}",
         "name": "tags.mlflow.databricks.cluster.info",
         "type": "\"string\""
        },
        {
         "metadata": "{}",
         "name": "tags.mlflow.databricks.notebookID",
         "type": "\"string\""
        },
        {
         "metadata": "{}",
         "name": "tags.mlflow.databricks.gitRepoStatus",
         "type": "\"string\""
        },
        {
         "metadata": "{}",
         "name": "tags.mlflow.databricks.gitRepoUrl",
         "type": "\"string\""
        },
        {
         "metadata": "{}",
         "name": "tags.mlflow.databricks.notebookRevisionError",
         "type": "\"void\""
        },
        {
         "metadata": "{}",
         "name": "rank_dense",
         "type": "\"double\""
        }
       ],
       "type": "table"
      }
     },
     "output_type": "display_data"
    },
    {
     "output_type": "stream",
     "name": "stdout",
     "output_type": "stream",
     "text": [
      "Successfully registered model 'airbnb-model-test1'.\n2023/03/16 05:59:25 INFO mlflow.tracking._model_registry.client: Waiting up to 300 seconds for model version to finish creation.                     Model name: airbnb-model-test1, version 1\nCreated version '1' of model 'airbnb-model-test1'.\n"
     ]
    }
   ],
   "source": [
    "experiment_id = '4294012359381903'\n",
    "register_model_name='airbnb-model-test1'\n",
    "find_best_and_register_model(experiment_id,register_model_name)"
   ]
  }
 ],
 "metadata": {
  "application/vnd.databricks.v1+notebook": {
   "dashboards": [],
   "language": "python",
   "notebookMetadata": {
    "pythonIndentUnit": 4
   },
   "notebookName": "3-Select best model",
   "notebookOrigID": 1264345210877681,
   "widgets": {}
  }
 },
 "nbformat": 4,
 "nbformat_minor": 0
}
