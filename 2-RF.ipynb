{
 "cells": [
  {
   "cell_type": "code",
   "execution_count": 0,
   "metadata": {
    "application/vnd.databricks.v1+cell": {
     "cellMetadata": {
      "byteLimit": 2048000,
      "rowLimit": 10000
     },
     "inputWidgets": {},
     "nuid": "75ce045c-c3d2-4399-83e6-03dcc830aa03",
     "showTitle": false,
     "title": ""
    }
   },
   "outputs": [
    {
     "output_type": "display_data",
     "data": {
      "application/vnd.databricks.v1+bamboolib_hint": "{\"pd.DataFrames\": [], \"version\": \"0.0.1\"}",
      "text/plain": ""
     },
     "metadata": {
      "application/vnd.databricks.v1+output": {
       "addedWidgets": {},
       "arguments": {},
       "data": {
        "application/vnd.databricks.v1+bamboolib_hint": "{\"pd.DataFrames\": [], \"version\": \"0.0.1\"}",
        "text/plain": ""
       },
       "datasetInfos": [],
       "executionCount": null,
       "metadata": {
        "kernelSessionId": "719c6b13-b1ea7a61b64e2a0c6adde30c"
       },
       "removedWidgets": [],
       "type": "mimeBundle"
      }
     },
     "output_type": "display_data"
    }
   ],
   "source": [
    "%run ./0"
   ]
  },
  {
   "cell_type": "code",
   "execution_count": 0,
   "metadata": {
    "application/vnd.databricks.v1+cell": {
     "cellMetadata": {
      "byteLimit": 2048000,
      "rowLimit": 10000
     },
     "inputWidgets": {},
     "nuid": "fb0b2b98-e5e2-4e0e-aac2-8bdf18d148f9",
     "showTitle": false,
     "title": ""
    }
   },
   "outputs": [],
   "source": [
    "all_col=['host_is_superhost','cancellation_policy','instant_bookable','host_total_listings_count','neighbourhood_cleansed','latitude','longitude','property_type','room_type','accommodates','bathrooms','bedrooms','beds','bed_type','minimum_nights','number_of_reviews','review_scores_rating','review_scores_accuracy','review_scores_cleanliness','review_scores_checkin','review_scores_communication','review_scores_location','review_scores_value','target_price']"
   ]
  },
  {
   "cell_type": "code",
   "execution_count": 0,
   "metadata": {
    "application/vnd.databricks.v1+cell": {
     "cellMetadata": {
      "byteLimit": 2048000,
      "rowLimit": 10000
     },
     "inputWidgets": {},
     "nuid": "89671b4a-7d4b-4d33-b075-77bab60398ea",
     "showTitle": false,
     "title": ""
    }
   },
   "outputs": [],
   "source": [
    "dlt_table_name = 'airbnb_db.gold_final_mart_table_updated_airbnb'\n",
    "feature_table_name=spark.sql('''select * from airbnb_db.feature_store_tb order by created_timestamp desc limit 1''').collect()[0]['feature_id']\n",
    "feature_list=all_col[7:20]\n",
    "lookup_key=\"index\"\n",
    "y_col=\"target_price\"\n",
    "data=load_data(feature_table_name,dlt_table_name, feature_list ,lookup_key,y_col).drop('rand_num')\n",
    "train_df,test_df=data_split(data)"
   ]
  },
  {
   "cell_type": "code",
   "execution_count": 0,
   "metadata": {
    "application/vnd.databricks.v1+cell": {
     "cellMetadata": {
      "byteLimit": 2048000,
      "rowLimit": 10000
     },
     "inputWidgets": {},
     "nuid": "e6c782bb-af43-43ea-b7be-ed6c3c59902f",
     "showTitle": false,
     "title": ""
    }
   },
   "outputs": [],
   "source": [
    "# table_name = 'kexin_mz_co_kr.gold_final_mart_table_updated_aileen'\n",
    "# select_col=str(all_col[5:])[1:-1]\n",
    "# ##read data from gold table\n",
    "# data=data_reading_table_select_col(table_name,select_col)\n",
    "# train_df,test_df=data_split(data)"
   ]
  },
  {
   "cell_type": "markdown",
   "metadata": {
    "application/vnd.databricks.v1+cell": {
     "cellMetadata": {
      "byteLimit": 2048000,
      "rowLimit": 10000
     },
     "inputWidgets": {},
     "nuid": "83f2c645-df6c-4c52-ace0-e5bcff142104",
     "showTitle": false,
     "title": ""
    }
   },
   "source": [
    "Train model with Random Forest"
   ]
  },
  {
   "cell_type": "code",
   "execution_count": 0,
   "metadata": {
    "application/vnd.databricks.v1+cell": {
     "cellMetadata": {
      "byteLimit": 2048000,
      "rowLimit": 10000
     },
     "inputWidgets": {},
     "nuid": "2953021e-00f4-4825-a9c5-f74c73a219c9",
     "showTitle": false,
     "title": ""
    }
   },
   "outputs": [
    {
     "output_type": "stream",
     "name": "stdout",
     "output_type": "stream",
     "text": [
      "train baseline model>>>>>>>>>>>>>>\nRMSE is 394.68770786087595\nR2 is 0.09629782296767198\n2023/03/16 05:50:08 WARNING mlflow.utils.environment: Encountered an unexpected error while inferring pip requirements (model URI: /tmp/tmpncq22t8f, flavor: spark), fall back to return ['pyspark==3.3.0']. Set logging level to DEBUG to see the full traceback.\n"
     ]
    },
    {
     "output_type": "display_data",
     "data": {
      "text/html": [
       "<style scoped>\n  .table-result-container {\n    max-height: 300px;\n    overflow: auto;\n  }\n  table, th, td {\n    border: 1px solid black;\n    border-collapse: collapse;\n  }\n  th, td {\n    padding: 5px;\n  }\n  th {\n    text-align: left;\n  }\n</style><div class='table-result-container'><table class='table-result'><thead style='background-color: white'><tr><th>run_id</th><th>experiment_id</th><th>status</th><th>artifact_uri</th><th>start_time</th><th>end_time</th><th>metrics.RMSE</th><th>metrics.R2</th><th>params.paramater</th><th>params.model type</th><th>tags.mlflow.databricks.cluster.id</th><th>tags.mlflow.databricks.workspaceID</th><th>tags.mlflow.source.name</th><th>tags.mlflow.databricks.notebookPath</th><th>tags.sparkDatasourceInfo</th><th>tags.mlflow.databricks.gitRepoReference</th><th>tags.mlflow.databricks.notebook.commandID</th><th>tags.mlflow.source.type</th><th>tags.mlflow.databricks.webappURL</th><th>tags.mlflow.databricks.cluster.libraries</th><th>tags.mlflow.databricks.gitRepoProvider</th><th>tags.mlflow.databricks.gitRepoCommit</th><th>tags.mlflow.user</th><th>tags.mlflow.databricks.gitRepoRelativePath</th><th>tags.mlflow.databricks.workspaceURL</th><th>tags.mlflow.runName</th><th>tags.mlflow.databricks.gitRepoReferenceType</th><th>tags.mlflow.databricks.cluster.info</th><th>tags.mlflow.databricks.notebookID</th><th>tags.mlflow.databricks.gitRepoStatus</th><th>tags.mlflow.databricks.gitRepoUrl</th><th>tags.mlflow.log-model.history</th></tr></thead><tbody><tr><td>fe53b7682299480cafbaa9343cc8a837</td><td>4294012359381903</td><td>RUNNING</td><td>dbfs:/databricks/mlflow-tracking/4294012359381903/fe53b7682299480cafbaa9343cc8a837/artifacts</td><td>2023-03-16T05:49:28.644+0000</td><td>null</td><td>null</td><td>null</td><td>{'n_estimators': 50, 'learning_rate': 0.05, 'max_depth': 20}</td><td>null</td><td>0309-080449-d0znjq4t</td><td>4325144974049722</td><td>/Repos/kexin@mz.co.kr/poc/test_final_last/2-XGB</td><td>/Repos/kexin@mz.co.kr/poc/test_final_last/2-XGB</td><td>path=dbfs:/user/hive/warehouse/airbnb_db.db/feature_store_tb,version=4,format=delta\npath=dbfs:/pipelines/e9ac1fe5-0e3f-4337-8cc5-7a319ea93b18/tables/gold_final_mart_table_updated_airbnb,version=1,format=delta\npath=dbfs:/user/hive/warehouse/airbnb_db.db/feature_store_772f9c,version=1,format=delta</td><td>feature-aileen</td><td>4793921807531784791_6882462477898245277_c7e50a7b5f034ca89acd43c96a90a531</td><td>NOTEBOOK</td><td>https://seoul.cloud.databricks.com</td><td>{\"installable\":[],\"redacted\":[]}</td><td>gitHub</td><td>98a7c6befee8fcede22d5a67adf4fe5c691d9ea1</td><td>kexin@mz.co.kr</td><td>test_final_last/2-XGB</td><td>dbc-3d35d31c-7db9.cloud.databricks.com</td><td>baseline model accuracy of XGB</td><td>branch</td><td>{\"cluster_name\":\"dbdemos-mlops-end2end-kexin\",\"spark_version\":\"11.3.x-cpu-ml-scala2.12\",\"node_type_id\":\"i3.xlarge\",\"driver_node_type_id\":\"i3.xlarge\",\"autotermination_minutes\":120,\"disk_spec\":{\"disk_count\":0},\"autoscale\":{\"min_workers\":2,\"max_workers\":4,\"target_workers\":2}}</td><td>1264345210877564</td><td>unknown</td><td>https://github.com/mzdbc/poc.git</td><td>null</td></tr><tr><td>4cf5b2eddacc4ce097e52a64d4694394</td><td>4294012359381903</td><td>FINISHED</td><td>dbfs:/databricks/mlflow-tracking/4294012359381903/4cf5b2eddacc4ce097e52a64d4694394/artifacts</td><td>2023-03-16T05:49:17.401+0000</td><td>2023-03-16T05:50:09.104+0000</td><td>394.68770786087595</td><td>0.09629782296767198</td><td>{'max_depth': 10, 'num_trees': 10, 'max_bins': 40}</td><td>Random Forest</td><td>0309-080449-d0znjq4t</td><td>4325144974049722</td><td>/Repos/kexin@mz.co.kr/poc/test_final_last/2-RF</td><td>/Repos/kexin@mz.co.kr/poc/test_final_last/2-RF</td><td>path=dbfs:/user/hive/warehouse/airbnb_db.db/feature_store_tb,version=4,format=delta\npath=dbfs:/pipelines/e9ac1fe5-0e3f-4337-8cc5-7a319ea93b18/tables/gold_final_mart_table_updated_airbnb,version=1,format=delta\npath=dbfs:/user/hive/warehouse/airbnb_db.db/feature_store_772f9c,version=1,format=delta</td><td>feature-aileen</td><td>1270028317841349464_7266400646307724754_108fb353711d4857af48cee392cdf916</td><td>NOTEBOOK</td><td>https://seoul.cloud.databricks.com</td><td>{\"installable\":[],\"redacted\":[]}</td><td>gitHub</td><td>98a7c6befee8fcede22d5a67adf4fe5c691d9ea1</td><td>kexin@mz.co.kr</td><td>test_final_last/2-RF</td><td>dbc-3d35d31c-7db9.cloud.databricks.com</td><td>baseline model accuracy of Random Forest</td><td>branch</td><td>{\"cluster_name\":\"dbdemos-mlops-end2end-kexin\",\"spark_version\":\"11.3.x-cpu-ml-scala2.12\",\"node_type_id\":\"i3.xlarge\",\"driver_node_type_id\":\"i3.xlarge\",\"autotermination_minutes\":120,\"disk_spec\":{\"disk_count\":0},\"autoscale\":{\"min_workers\":2,\"max_workers\":4,\"target_workers\":2}}</td><td>1264345210877650</td><td>unknown</td><td>https://github.com/mzdbc/poc.git</td><td>[{\"artifact_path\":\"model\",\"flavors\":{\"spark\":{\"pyspark_version\":\"3.3.0\",\"model_data\":\"sparkml\",\"code\":null},\"python_function\":{\"loader_module\":\"mlflow.spark\",\"python_version\":\"3.9.5\",\"data\":\"sparkml\",\"env\":\"conda.yaml\"}},\"run_id\":\"4cf5b2eddacc4ce097e52a64d4694394\",\"model_uuid\":\"14a1e51b6de7443e9d7601944e6477ee\",\"utc_time_created\":\"2023-03-16 05:49:47.929145\",\"mlflow_version\":\"1.29.0\",\"databricks_runtime\":\"11.3.x-cpu-ml-scala2.12\"}]</td></tr></tbody></table></div>"
      ]
     },
     "metadata": {
      "application/vnd.databricks.v1+output": {
       "addedWidgets": {},
       "aggData": [],
       "aggError": "",
       "aggOverflow": false,
       "aggSchema": [],
       "aggSeriesLimitReached": false,
       "aggType": "",
       "arguments": {},
       "columnCustomDisplayInfos": {},
       "data": [
        [
         "fe53b7682299480cafbaa9343cc8a837",
         "4294012359381903",
         "RUNNING",
         "dbfs:/databricks/mlflow-tracking/4294012359381903/fe53b7682299480cafbaa9343cc8a837/artifacts",
         "2023-03-16T05:49:28.644+0000",
         null,
         null,
         null,
         "{'n_estimators': 50, 'learning_rate': 0.05, 'max_depth': 20}",
         null,
         "0309-080449-d0znjq4t",
         "4325144974049722",
         "/Repos/kexin@mz.co.kr/poc/test_final_last/2-XGB",
         "/Repos/kexin@mz.co.kr/poc/test_final_last/2-XGB",
         "path=dbfs:/user/hive/warehouse/airbnb_db.db/feature_store_tb,version=4,format=delta\npath=dbfs:/pipelines/e9ac1fe5-0e3f-4337-8cc5-7a319ea93b18/tables/gold_final_mart_table_updated_airbnb,version=1,format=delta\npath=dbfs:/user/hive/warehouse/airbnb_db.db/feature_store_772f9c,version=1,format=delta",
         "feature-aileen",
         "4793921807531784791_6882462477898245277_c7e50a7b5f034ca89acd43c96a90a531",
         "NOTEBOOK",
         "https://seoul.cloud.databricks.com",
         "{\"installable\":[],\"redacted\":[]}",
         "gitHub",
         "98a7c6befee8fcede22d5a67adf4fe5c691d9ea1",
         "kexin@mz.co.kr",
         "test_final_last/2-XGB",
         "dbc-3d35d31c-7db9.cloud.databricks.com",
         "baseline model accuracy of XGB",
         "branch",
         "{\"cluster_name\":\"dbdemos-mlops-end2end-kexin\",\"spark_version\":\"11.3.x-cpu-ml-scala2.12\",\"node_type_id\":\"i3.xlarge\",\"driver_node_type_id\":\"i3.xlarge\",\"autotermination_minutes\":120,\"disk_spec\":{\"disk_count\":0},\"autoscale\":{\"min_workers\":2,\"max_workers\":4,\"target_workers\":2}}",
         "1264345210877564",
         "unknown",
         "https://github.com/mzdbc/poc.git",
         null
        ],
        [
         "4cf5b2eddacc4ce097e52a64d4694394",
         "4294012359381903",
         "FINISHED",
         "dbfs:/databricks/mlflow-tracking/4294012359381903/4cf5b2eddacc4ce097e52a64d4694394/artifacts",
         "2023-03-16T05:49:17.401+0000",
         "2023-03-16T05:50:09.104+0000",
         394.68770786087595,
         0.09629782296767198,
         "{'max_depth': 10, 'num_trees': 10, 'max_bins': 40}",
         "Random Forest",
         "0309-080449-d0znjq4t",
         "4325144974049722",
         "/Repos/kexin@mz.co.kr/poc/test_final_last/2-RF",
         "/Repos/kexin@mz.co.kr/poc/test_final_last/2-RF",
         "path=dbfs:/user/hive/warehouse/airbnb_db.db/feature_store_tb,version=4,format=delta\npath=dbfs:/pipelines/e9ac1fe5-0e3f-4337-8cc5-7a319ea93b18/tables/gold_final_mart_table_updated_airbnb,version=1,format=delta\npath=dbfs:/user/hive/warehouse/airbnb_db.db/feature_store_772f9c,version=1,format=delta",
         "feature-aileen",
         "1270028317841349464_7266400646307724754_108fb353711d4857af48cee392cdf916",
         "NOTEBOOK",
         "https://seoul.cloud.databricks.com",
         "{\"installable\":[],\"redacted\":[]}",
         "gitHub",
         "98a7c6befee8fcede22d5a67adf4fe5c691d9ea1",
         "kexin@mz.co.kr",
         "test_final_last/2-RF",
         "dbc-3d35d31c-7db9.cloud.databricks.com",
         "baseline model accuracy of Random Forest",
         "branch",
         "{\"cluster_name\":\"dbdemos-mlops-end2end-kexin\",\"spark_version\":\"11.3.x-cpu-ml-scala2.12\",\"node_type_id\":\"i3.xlarge\",\"driver_node_type_id\":\"i3.xlarge\",\"autotermination_minutes\":120,\"disk_spec\":{\"disk_count\":0},\"autoscale\":{\"min_workers\":2,\"max_workers\":4,\"target_workers\":2}}",
         "1264345210877650",
         "unknown",
         "https://github.com/mzdbc/poc.git",
         "[{\"artifact_path\":\"model\",\"flavors\":{\"spark\":{\"pyspark_version\":\"3.3.0\",\"model_data\":\"sparkml\",\"code\":null},\"python_function\":{\"loader_module\":\"mlflow.spark\",\"python_version\":\"3.9.5\",\"data\":\"sparkml\",\"env\":\"conda.yaml\"}},\"run_id\":\"4cf5b2eddacc4ce097e52a64d4694394\",\"model_uuid\":\"14a1e51b6de7443e9d7601944e6477ee\",\"utc_time_created\":\"2023-03-16 05:49:47.929145\",\"mlflow_version\":\"1.29.0\",\"databricks_runtime\":\"11.3.x-cpu-ml-scala2.12\"}]"
        ]
       ],
       "datasetInfos": [],
       "dbfsResultPath": null,
       "isJsonSchema": true,
       "metadata": {},
       "overflow": false,
       "plotOptions": {
        "customPlotOptions": {},
        "displayType": "table",
        "pivotAggregation": null,
        "pivotColumns": null,
        "xColumns": null,
        "yColumns": null
       },
       "removedWidgets": [],
       "schema": [
        {
         "metadata": "{}",
         "name": "run_id",
         "type": "\"string\""
        },
        {
         "metadata": "{}",
         "name": "experiment_id",
         "type": "\"string\""
        },
        {
         "metadata": "{}",
         "name": "status",
         "type": "\"string\""
        },
        {
         "metadata": "{}",
         "name": "artifact_uri",
         "type": "\"string\""
        },
        {
         "metadata": "{}",
         "name": "start_time",
         "type": "\"timestamp\""
        },
        {
         "metadata": "{}",
         "name": "end_time",
         "type": "\"timestamp\""
        },
        {
         "metadata": "{}",
         "name": "metrics.RMSE",
         "type": "\"double\""
        },
        {
         "metadata": "{}",
         "name": "metrics.R2",
         "type": "\"double\""
        },
        {
         "metadata": "{}",
         "name": "params.paramater",
         "type": "\"string\""
        },
        {
         "metadata": "{}",
         "name": "params.model type",
         "type": "\"string\""
        },
        {
         "metadata": "{}",
         "name": "tags.mlflow.databricks.cluster.id",
         "type": "\"string\""
        },
        {
         "metadata": "{}",
         "name": "tags.mlflow.databricks.workspaceID",
         "type": "\"string\""
        },
        {
         "metadata": "{}",
         "name": "tags.mlflow.source.name",
         "type": "\"string\""
        },
        {
         "metadata": "{}",
         "name": "tags.mlflow.databricks.notebookPath",
         "type": "\"string\""
        },
        {
         "metadata": "{}",
         "name": "tags.sparkDatasourceInfo",
         "type": "\"string\""
        },
        {
         "metadata": "{}",
         "name": "tags.mlflow.databricks.gitRepoReference",
         "type": "\"string\""
        },
        {
         "metadata": "{}",
         "name": "tags.mlflow.databricks.notebook.commandID",
         "type": "\"string\""
        },
        {
         "metadata": "{}",
         "name": "tags.mlflow.source.type",
         "type": "\"string\""
        },
        {
         "metadata": "{}",
         "name": "tags.mlflow.databricks.webappURL",
         "type": "\"string\""
        },
        {
         "metadata": "{}",
         "name": "tags.mlflow.databricks.cluster.libraries",
         "type": "\"string\""
        },
        {
         "metadata": "{}",
         "name": "tags.mlflow.databricks.gitRepoProvider",
         "type": "\"string\""
        },
        {
         "metadata": "{}",
         "name": "tags.mlflow.databricks.gitRepoCommit",
         "type": "\"string\""
        },
        {
         "metadata": "{}",
         "name": "tags.mlflow.user",
         "type": "\"string\""
        },
        {
         "metadata": "{}",
         "name": "tags.mlflow.databricks.gitRepoRelativePath",
         "type": "\"string\""
        },
        {
         "metadata": "{}",
         "name": "tags.mlflow.databricks.workspaceURL",
         "type": "\"string\""
        },
        {
         "metadata": "{}",
         "name": "tags.mlflow.runName",
         "type": "\"string\""
        },
        {
         "metadata": "{}",
         "name": "tags.mlflow.databricks.gitRepoReferenceType",
         "type": "\"string\""
        },
        {
         "metadata": "{}",
         "name": "tags.mlflow.databricks.cluster.info",
         "type": "\"string\""
        },
        {
         "metadata": "{}",
         "name": "tags.mlflow.databricks.notebookID",
         "type": "\"string\""
        },
        {
         "metadata": "{}",
         "name": "tags.mlflow.databricks.gitRepoStatus",
         "type": "\"string\""
        },
        {
         "metadata": "{}",
         "name": "tags.mlflow.databricks.gitRepoUrl",
         "type": "\"string\""
        },
        {
         "metadata": "{}",
         "name": "tags.mlflow.log-model.history",
         "type": "\"string\""
        }
       ],
       "type": "table"
      }
     },
     "output_type": "display_data"
    },
    {
     "output_type": "stream",
     "name": "stdout",
     "output_type": "stream",
     "text": [
      "2023/03/16 05:50:09 INFO mlflow.spark: 'runs:/4cf5b2eddacc4ce097e52a64d4694394/model' resolved as 'dbfs:/databricks/mlflow-tracking/4294012359381903/4cf5b2eddacc4ce097e52a64d4694394/artifacts/model'\nNone\nexperiment_id : 4294012359381903\nrun_id : 4cf5b2eddacc4ce097e52a64d4694394\n"
     ]
    }
   ],
   "source": [
    "model_type=\"Random Forest\"\n",
    "train_df, test_df, rf, pipeline , regression_evaluator,experiment_id,run_id=train(model_type,train_df,test_df,'features','target_price',[10,10,40],experiment_id)"
   ]
  },
  {
   "cell_type": "code",
   "execution_count": 0,
   "metadata": {
    "application/vnd.databricks.v1+cell": {
     "cellMetadata": {
      "byteLimit": 2048000,
      "rowLimit": 10000
     },
     "inputWidgets": {},
     "nuid": "d5d4bebb-3d13-4efb-b7ae-c8c40170a82b",
     "showTitle": false,
     "title": ""
    }
   },
   "outputs": [],
   "source": [
    "# register_model_name='RF-airbnb'\n",
    "# register_baseline_model(register_model_name,run_id)"
   ]
  },
  {
   "cell_type": "code",
   "execution_count": 0,
   "metadata": {
    "application/vnd.databricks.v1+cell": {
     "cellMetadata": {
      "byteLimit": 2048000,
      "rowLimit": 10000
     },
     "inputWidgets": {},
     "nuid": "0d013d0f-2c33-47b5-b2e5-333f2ee02ba2",
     "showTitle": false,
     "title": ""
    }
   },
   "outputs": [
    {
     "output_type": "stream",
     "name": "stdout",
     "output_type": "stream",
     "text": [
      "tuning paramater in search space\n>>>>>>>>>>>>>>>>>>>>>>>>>>>>>>>>>\n\r  0%|          | 0/5 [00:00<?, ?trial/s, best loss=?]\r 20%|██        | 1/5 [00:09<00:37,  9.33s/trial, best loss: 144.54718533667162]\r 40%|████      | 2/5 [00:19<00:28,  9.61s/trial, best loss: 141.1157480635017] \r 60%|██████    | 3/5 [00:25<00:16,  8.07s/trial, best loss: 141.1157480635017]\r 80%|████████  | 4/5 [00:33<00:08,  8.23s/trial, best loss: 141.1157480635017]\r100%|██████████| 5/5 [00:40<00:00,  7.72s/trial, best loss: 141.1157480635017]\r100%|██████████| 5/5 [00:40<00:00,  8.13s/trial, best loss: 141.1157480635017]\ntuning paramater end\n>>>>>>>>>>>>>>>>>>>>>>>>>>>>>>>>>\nRMSE is 398.5114379225481\nR2 is 0.07870289108445616\n2023/03/16 05:51:48 WARNING mlflow.utils.environment: Encountered an unexpected error while inferring pip requirements (model URI: /tmp/tmp9dfwe3xw, flavor: spark), fall back to return ['pyspark==3.3.0']. Set logging level to DEBUG to see the full traceback.\n"
     ]
    },
    {
     "output_type": "display_data",
     "data": {
      "text/html": [
       "<style scoped>\n  .table-result-container {\n    max-height: 300px;\n    overflow: auto;\n  }\n  table, th, td {\n    border: 1px solid black;\n    border-collapse: collapse;\n  }\n  th, td {\n    padding: 5px;\n  }\n  th {\n    text-align: left;\n  }\n</style><div class='table-result-container'><table class='table-result'><thead style='background-color: white'><tr><th>run_id</th><th>experiment_id</th><th>status</th><th>artifact_uri</th><th>start_time</th><th>end_time</th><th>metrics.rmse</th><th>params.paramater</th><th>params.model type</th><th>tags.mlflow.databricks.cluster.id</th><th>tags.mlflow.databricks.workspaceID</th><th>tags.mlflow.source.name</th><th>tags.mlflow.databricks.notebookPath</th><th>tags.sparkDatasourceInfo</th><th>tags.mlflow.databricks.gitRepoReference</th><th>tags.mlflow.databricks.notebook.commandID</th><th>tags.mlflow.source.type</th><th>tags.mlflow.databricks.webappURL</th><th>tags.mlflow.databricks.cluster.libraries</th><th>tags.mlflow.databricks.gitRepoProvider</th><th>tags.mlflow.databricks.gitRepoCommit</th><th>tags.mlflow.user</th><th>tags.mlflow.databricks.gitRepoRelativePath</th><th>tags.mlflow.databricks.workspaceURL</th><th>tags.mlflow.runName</th><th>tags.mlflow.databricks.gitRepoReferenceType</th><th>tags.mlflow.databricks.cluster.info</th><th>tags.mlflow.databricks.notebookID</th><th>tags.mlflow.databricks.gitRepoStatus</th><th>tags.mlflow.databricks.gitRepoUrl</th><th>tags.mlflow.databricks.notebookRevisionID</th></tr></thead><tbody><tr><td>f1198af042db40b8ba5770635f6475e0</td><td>4294012359381903</td><td>RUNNING</td><td>dbfs:/databricks/mlflow-tracking/4294012359381903/f1198af042db40b8ba5770635f6475e0/artifacts</td><td>2023-03-16T05:51:26.551+0000</td><td>null</td><td>null</td><td>{'learning_rate': 0.30000000000000004, 'max_depth': 20.0, 'n_estimators': 100.0}</td><td>null</td><td>0309-080449-d0znjq4t</td><td>4325144974049722</td><td>/Repos/kexin@mz.co.kr/poc/test_final_last/2-XGB</td><td>/Repos/kexin@mz.co.kr/poc/test_final_last/2-XGB</td><td>path=dbfs:/user/hive/warehouse/airbnb_db.db/feature_store_tb,version=4,format=delta\npath=mlflowdbfs:/artifacts?run_id=fe53b7682299480cafbaa9343cc8a837&path=/model/sparkml/stages/0_StringIndexer_4953b61e9d50/data,format=parquet\npath=mlflowdbfs:/artifacts?run_id=fe53b7682299480cafbaa9343cc8a837&path=/model/sparkml/stages/1_OneHotEncoder_44dcfee14b0d/data,format=parquet\npath=mlflowdbfs:/artifacts?run_id=fe53b7682299480cafbaa9343cc8a837&path=/model/sparkml/stages/3_XgboostRegressorModel_e1e4cc1d9bab/model.json,format=parquet\npath=dbfs:/pipelines/e9ac1fe5-0e3f-4337-8cc5-7a319ea93b18/tables/gold_final_mart_table_updated_airbnb,version=1,format=delta\npath=dbfs:/user/hive/warehouse/airbnb_db.db/feature_store_772f9c,version=1,format=delta</td><td>feature-aileen</td><td>4793921807531784791_4964275361533384892_c7e50a7b5f034ca89acd43c96a90a531</td><td>NOTEBOOK</td><td>https://seoul.cloud.databricks.com</td><td>{\"installable\":[],\"redacted\":[]}</td><td>gitHub</td><td>98a7c6befee8fcede22d5a67adf4fe5c691d9ea1</td><td>kexin@mz.co.kr</td><td>test_final_last/2-XGB</td><td>dbc-3d35d31c-7db9.cloud.databricks.com</td><td>best XGB model with tuning parmater</td><td>branch</td><td>{\"cluster_name\":\"dbdemos-mlops-end2end-kexin\",\"spark_version\":\"11.3.x-cpu-ml-scala2.12\",\"node_type_id\":\"i3.xlarge\",\"driver_node_type_id\":\"i3.xlarge\",\"autotermination_minutes\":120,\"disk_spec\":{\"disk_count\":0},\"autoscale\":{\"min_workers\":2,\"max_workers\":4,\"target_workers\":2}}</td><td>1264345210877564</td><td>unknown</td><td>https://github.com/mzdbc/poc.git</td><td>null</td></tr><tr><td>16180f3ce5684639aea7b04c136cfddf</td><td>4294012359381903</td><td>FINISHED</td><td>dbfs:/databricks/mlflow-tracking/4294012359381903/16180f3ce5684639aea7b04c136cfddf/artifacts</td><td>2023-03-16T05:51:19.820+0000</td><td>2023-03-16T05:51:26.439+0000</td><td>180.84727569382687</td><td>{'learning_rate': 0.2, 'max_depth': 20.0, 'n_estimators': 150.0}</td><td>XGB</td><td>0309-080449-d0znjq4t</td><td>4325144974049722</td><td>/Repos/kexin@mz.co.kr/poc/test_final_last/2-XGB</td><td>/Repos/kexin@mz.co.kr/poc/test_final_last/2-XGB</td><td>path=dbfs:/user/hive/warehouse/airbnb_db.db/feature_store_tb,version=4,format=delta\npath=mlflowdbfs:/artifacts?run_id=fe53b7682299480cafbaa9343cc8a837&path=/model/sparkml/stages/0_StringIndexer_4953b61e9d50/data,format=parquet\npath=mlflowdbfs:/artifacts?run_id=fe53b7682299480cafbaa9343cc8a837&path=/model/sparkml/stages/1_OneHotEncoder_44dcfee14b0d/data,format=parquet\npath=mlflowdbfs:/artifacts?run_id=fe53b7682299480cafbaa9343cc8a837&path=/model/sparkml/stages/3_XgboostRegressorModel_e1e4cc1d9bab/model.json,format=parquet\npath=dbfs:/pipelines/e9ac1fe5-0e3f-4337-8cc5-7a319ea93b18/tables/gold_final_mart_table_updated_airbnb,version=1,format=delta\npath=dbfs:/user/hive/warehouse/airbnb_db.db/feature_store_772f9c,version=1,format=delta</td><td>feature-aileen</td><td>4793921807531784791_4964275361533384892_c7e50a7b5f034ca89acd43c96a90a531</td><td>NOTEBOOK</td><td>https://seoul.cloud.databricks.com</td><td>{\"installable\":[],\"redacted\":[]}</td><td>gitHub</td><td>98a7c6befee8fcede22d5a67adf4fe5c691d9ea1</td><td>kexin@mz.co.kr</td><td>test_final_last/2-XGB</td><td>dbc-3d35d31c-7db9.cloud.databricks.com</td><td>tuning parmater for XGB</td><td>branch</td><td>{\"cluster_name\":\"dbdemos-mlops-end2end-kexin\",\"spark_version\":\"11.3.x-cpu-ml-scala2.12\",\"node_type_id\":\"i3.xlarge\",\"driver_node_type_id\":\"i3.xlarge\",\"autotermination_minutes\":120,\"disk_spec\":{\"disk_count\":0},\"autoscale\":{\"min_workers\":2,\"max_workers\":4,\"target_workers\":2}}</td><td>1264345210877564</td><td>unknown</td><td>https://github.com/mzdbc/poc.git</td><td>1678945886562</td></tr></tbody></table></div>"
      ]
     },
     "metadata": {
      "application/vnd.databricks.v1+output": {
       "addedWidgets": {},
       "aggData": [],
       "aggError": "",
       "aggOverflow": false,
       "aggSchema": [],
       "aggSeriesLimitReached": false,
       "aggType": "",
       "arguments": {},
       "columnCustomDisplayInfos": {},
       "data": [
        [
         "f1198af042db40b8ba5770635f6475e0",
         "4294012359381903",
         "RUNNING",
         "dbfs:/databricks/mlflow-tracking/4294012359381903/f1198af042db40b8ba5770635f6475e0/artifacts",
         "2023-03-16T05:51:26.551+0000",
         null,
         null,
         "{'learning_rate': 0.30000000000000004, 'max_depth': 20.0, 'n_estimators': 100.0}",
         null,
         "0309-080449-d0znjq4t",
         "4325144974049722",
         "/Repos/kexin@mz.co.kr/poc/test_final_last/2-XGB",
         "/Repos/kexin@mz.co.kr/poc/test_final_last/2-XGB",
         "path=dbfs:/user/hive/warehouse/airbnb_db.db/feature_store_tb,version=4,format=delta\npath=mlflowdbfs:/artifacts?run_id=fe53b7682299480cafbaa9343cc8a837&path=/model/sparkml/stages/0_StringIndexer_4953b61e9d50/data,format=parquet\npath=mlflowdbfs:/artifacts?run_id=fe53b7682299480cafbaa9343cc8a837&path=/model/sparkml/stages/1_OneHotEncoder_44dcfee14b0d/data,format=parquet\npath=mlflowdbfs:/artifacts?run_id=fe53b7682299480cafbaa9343cc8a837&path=/model/sparkml/stages/3_XgboostRegressorModel_e1e4cc1d9bab/model.json,format=parquet\npath=dbfs:/pipelines/e9ac1fe5-0e3f-4337-8cc5-7a319ea93b18/tables/gold_final_mart_table_updated_airbnb,version=1,format=delta\npath=dbfs:/user/hive/warehouse/airbnb_db.db/feature_store_772f9c,version=1,format=delta",
         "feature-aileen",
         "4793921807531784791_4964275361533384892_c7e50a7b5f034ca89acd43c96a90a531",
         "NOTEBOOK",
         "https://seoul.cloud.databricks.com",
         "{\"installable\":[],\"redacted\":[]}",
         "gitHub",
         "98a7c6befee8fcede22d5a67adf4fe5c691d9ea1",
         "kexin@mz.co.kr",
         "test_final_last/2-XGB",
         "dbc-3d35d31c-7db9.cloud.databricks.com",
         "best XGB model with tuning parmater",
         "branch",
         "{\"cluster_name\":\"dbdemos-mlops-end2end-kexin\",\"spark_version\":\"11.3.x-cpu-ml-scala2.12\",\"node_type_id\":\"i3.xlarge\",\"driver_node_type_id\":\"i3.xlarge\",\"autotermination_minutes\":120,\"disk_spec\":{\"disk_count\":0},\"autoscale\":{\"min_workers\":2,\"max_workers\":4,\"target_workers\":2}}",
         "1264345210877564",
         "unknown",
         "https://github.com/mzdbc/poc.git",
         null
        ],
        [
         "16180f3ce5684639aea7b04c136cfddf",
         "4294012359381903",
         "FINISHED",
         "dbfs:/databricks/mlflow-tracking/4294012359381903/16180f3ce5684639aea7b04c136cfddf/artifacts",
         "2023-03-16T05:51:19.820+0000",
         "2023-03-16T05:51:26.439+0000",
         180.84727569382687,
         "{'learning_rate': 0.2, 'max_depth': 20.0, 'n_estimators': 150.0}",
         "XGB",
         "0309-080449-d0znjq4t",
         "4325144974049722",
         "/Repos/kexin@mz.co.kr/poc/test_final_last/2-XGB",
         "/Repos/kexin@mz.co.kr/poc/test_final_last/2-XGB",
         "path=dbfs:/user/hive/warehouse/airbnb_db.db/feature_store_tb,version=4,format=delta\npath=mlflowdbfs:/artifacts?run_id=fe53b7682299480cafbaa9343cc8a837&path=/model/sparkml/stages/0_StringIndexer_4953b61e9d50/data,format=parquet\npath=mlflowdbfs:/artifacts?run_id=fe53b7682299480cafbaa9343cc8a837&path=/model/sparkml/stages/1_OneHotEncoder_44dcfee14b0d/data,format=parquet\npath=mlflowdbfs:/artifacts?run_id=fe53b7682299480cafbaa9343cc8a837&path=/model/sparkml/stages/3_XgboostRegressorModel_e1e4cc1d9bab/model.json,format=parquet\npath=dbfs:/pipelines/e9ac1fe5-0e3f-4337-8cc5-7a319ea93b18/tables/gold_final_mart_table_updated_airbnb,version=1,format=delta\npath=dbfs:/user/hive/warehouse/airbnb_db.db/feature_store_772f9c,version=1,format=delta",
         "feature-aileen",
         "4793921807531784791_4964275361533384892_c7e50a7b5f034ca89acd43c96a90a531",
         "NOTEBOOK",
         "https://seoul.cloud.databricks.com",
         "{\"installable\":[],\"redacted\":[]}",
         "gitHub",
         "98a7c6befee8fcede22d5a67adf4fe5c691d9ea1",
         "kexin@mz.co.kr",
         "test_final_last/2-XGB",
         "dbc-3d35d31c-7db9.cloud.databricks.com",
         "tuning parmater for XGB",
         "branch",
         "{\"cluster_name\":\"dbdemos-mlops-end2end-kexin\",\"spark_version\":\"11.3.x-cpu-ml-scala2.12\",\"node_type_id\":\"i3.xlarge\",\"driver_node_type_id\":\"i3.xlarge\",\"autotermination_minutes\":120,\"disk_spec\":{\"disk_count\":0},\"autoscale\":{\"min_workers\":2,\"max_workers\":4,\"target_workers\":2}}",
         "1264345210877564",
         "unknown",
         "https://github.com/mzdbc/poc.git",
         "1678945886562"
        ]
       ],
       "datasetInfos": [],
       "dbfsResultPath": null,
       "isJsonSchema": true,
       "metadata": {},
       "overflow": false,
       "plotOptions": {
        "customPlotOptions": {},
        "displayType": "table",
        "pivotAggregation": null,
        "pivotColumns": null,
        "xColumns": null,
        "yColumns": null
       },
       "removedWidgets": [],
       "schema": [
        {
         "metadata": "{}",
         "name": "run_id",
         "type": "\"string\""
        },
        {
         "metadata": "{}",
         "name": "experiment_id",
         "type": "\"string\""
        },
        {
         "metadata": "{}",
         "name": "status",
         "type": "\"string\""
        },
        {
         "metadata": "{}",
         "name": "artifact_uri",
         "type": "\"string\""
        },
        {
         "metadata": "{}",
         "name": "start_time",
         "type": "\"timestamp\""
        },
        {
         "metadata": "{}",
         "name": "end_time",
         "type": "\"timestamp\""
        },
        {
         "metadata": "{}",
         "name": "metrics.rmse",
         "type": "\"double\""
        },
        {
         "metadata": "{}",
         "name": "params.paramater",
         "type": "\"string\""
        },
        {
         "metadata": "{}",
         "name": "params.model type",
         "type": "\"string\""
        },
        {
         "metadata": "{}",
         "name": "tags.mlflow.databricks.cluster.id",
         "type": "\"string\""
        },
        {
         "metadata": "{}",
         "name": "tags.mlflow.databricks.workspaceID",
         "type": "\"string\""
        },
        {
         "metadata": "{}",
         "name": "tags.mlflow.source.name",
         "type": "\"string\""
        },
        {
         "metadata": "{}",
         "name": "tags.mlflow.databricks.notebookPath",
         "type": "\"string\""
        },
        {
         "metadata": "{}",
         "name": "tags.sparkDatasourceInfo",
         "type": "\"string\""
        },
        {
         "metadata": "{}",
         "name": "tags.mlflow.databricks.gitRepoReference",
         "type": "\"string\""
        },
        {
         "metadata": "{}",
         "name": "tags.mlflow.databricks.notebook.commandID",
         "type": "\"string\""
        },
        {
         "metadata": "{}",
         "name": "tags.mlflow.source.type",
         "type": "\"string\""
        },
        {
         "metadata": "{}",
         "name": "tags.mlflow.databricks.webappURL",
         "type": "\"string\""
        },
        {
         "metadata": "{}",
         "name": "tags.mlflow.databricks.cluster.libraries",
         "type": "\"string\""
        },
        {
         "metadata": "{}",
         "name": "tags.mlflow.databricks.gitRepoProvider",
         "type": "\"string\""
        },
        {
         "metadata": "{}",
         "name": "tags.mlflow.databricks.gitRepoCommit",
         "type": "\"string\""
        },
        {
         "metadata": "{}",
         "name": "tags.mlflow.user",
         "type": "\"string\""
        },
        {
         "metadata": "{}",
         "name": "tags.mlflow.databricks.gitRepoRelativePath",
         "type": "\"string\""
        },
        {
         "metadata": "{}",
         "name": "tags.mlflow.databricks.workspaceURL",
         "type": "\"string\""
        },
        {
         "metadata": "{}",
         "name": "tags.mlflow.runName",
         "type": "\"string\""
        },
        {
         "metadata": "{}",
         "name": "tags.mlflow.databricks.gitRepoReferenceType",
         "type": "\"string\""
        },
        {
         "metadata": "{}",
         "name": "tags.mlflow.databricks.cluster.info",
         "type": "\"string\""
        },
        {
         "metadata": "{}",
         "name": "tags.mlflow.databricks.notebookID",
         "type": "\"string\""
        },
        {
         "metadata": "{}",
         "name": "tags.mlflow.databricks.gitRepoStatus",
         "type": "\"string\""
        },
        {
         "metadata": "{}",
         "name": "tags.mlflow.databricks.gitRepoUrl",
         "type": "\"string\""
        },
        {
         "metadata": "{}",
         "name": "tags.mlflow.databricks.notebookRevisionID",
         "type": "\"string\""
        }
       ],
       "type": "table"
      }
     },
     "output_type": "display_data"
    },
    {
     "output_type": "stream",
     "name": "stdout",
     "output_type": "stream",
     "text": [
      "2023/03/16 05:51:49 INFO mlflow.spark: 'runs:/1a29ea11720a4906b18ca9ea673e77fa/model' resolved as 'dbfs:/databricks/mlflow-tracking/4294012359381903/1a29ea11720a4906b18ca9ea673e77fa/artifacts/model'\nNone\nbest experiment_id : 4294012359381903\nbest run_id : 1a29ea11720a4906b18ca9ea673e77fa\n"
     ]
    }
   ],
   "source": [
    "train_df_t,test_df_t=data_split(train_df)\n",
    "search_space = {\n",
    "\"max_depth\": hp.quniform(\"max_depth\", 2, 5, 1),\n",
    "\"num_trees\": hp.quniform(\"num_trees\", 10, 100, 10),\n",
    "\"max_bins\": hp.quniform(\"max_bins\", 40, 50, 5)\n",
    "}\n",
    "\n",
    "print (\"tuning paramater in search space\")\n",
    "print(\">>>>>>>>>>>>>>>>>>>>>>>>>>>>>>>>>\")\n",
    "num_evals = 5\n",
    "trials = Trials()\n",
    "best_hyperparam = fmin(fn=objective_function_rf, \n",
    "                       space=search_space,\n",
    "                       algo=tpe.suggest, \n",
    "                       max_evals=num_evals,\n",
    "                       trials=trials,\n",
    "                       rstate=np.random.default_rng(42))\n",
    "print (\"tuning paramater end\")\n",
    "print(\">>>>>>>>>>>>>>>>>>>>>>>>>>>>>>>>>\")\n",
    "\n",
    "best_max_depth = best_hyperparam[\"max_depth\"]\n",
    "best_num_trees = best_hyperparam[\"num_trees\"]\n",
    "best_max_bins = best_hyperparam[\"max_bins\"]\n",
    "\n",
    "with mlflow.start_run(experiment_id=experiment_id,run_name='best model RF with tuning parmater') as run:\n",
    "    rf=rf_model([best_max_depth,best_num_trees,best_max_bins],'features','target_price')\n",
    "    run_model(model_type,best_hyperparam,train_df,test_df,rf,'features','target_price')\n",
    "best_experiment_id,best_run_id = get_run_details(run)\n",
    "\n",
    "print(\"best experiment_id :\",best_experiment_id)\n",
    "print(\"best run_id :\",best_run_id)\n",
    "\n",
    "mlflow.end_run()\n",
    "\n",
    "##predict with load model\n",
    "pred_df=load_model_and_predict(best_run_id,test_df)"
   ]
  }
 ],
 "metadata": {
  "application/vnd.databricks.v1+notebook": {
   "dashboards": [],
   "language": "python",
   "notebookMetadata": {
    "mostRecentlyExecutedCommandWithImplicitDF": {
     "commandId": -1,
     "dataframes": [
      "_sqldf"
     ]
    },
    "pythonIndentUnit": 4
   },
   "notebookName": "2-RF",
   "notebookOrigID": 1264345210877650,
   "widgets": {}
  }
 },
 "nbformat": 4,
 "nbformat_minor": 0
}
